{
 "cells": [
  {
   "cell_type": "code",
   "execution_count": 677,
   "id": "c2a942f5",
   "metadata": {},
   "outputs": [],
   "source": [
    "import pandas as pd\n",
    "import numpy as np"
   ]
  },
  {
   "cell_type": "code",
   "execution_count": 678,
   "id": "e9dbea5a",
   "metadata": {},
   "outputs": [],
   "source": [
    "df = pd.read_csv('resume_data.csv')"
   ]
  },
  {
   "cell_type": "markdown",
   "id": "b31ee861",
   "metadata": {},
   "source": [
    "Data Cleaning"
   ]
  },
  {
   "cell_type": "markdown",
   "id": "6da3009b",
   "metadata": {},
   "source": [
    "getting the experience years by considering the start and end dates"
   ]
  },
  {
   "cell_type": "markdown",
   "id": "024c0d85",
   "metadata": {},
   "source": [
    "droping the unwanted columns"
   ]
  },
  {
   "cell_type": "code",
   "execution_count": 682,
   "id": "7a65bd4b",
   "metadata": {},
   "outputs": [],
   "source": [
    "df = df.drop([\n",
    "    'address', 'career_objective', 'professional_company_names', 'company_urls', 'positions', 'locations', 'responsibilities', 'extra_curricular_activity_types',\n",
    "    'extra_curricular_organization_names', 'extra_curricular_organization_links', 'role_positions', \n",
    "    'languages', 'proficiency_levels', 'certification_providers', 'online_links', 'issue_dates', \n",
    "    'expiry_dates', 'responsibilities.1'\n",
    "], axis=1)"
   ]
  },
  {
   "cell_type": "code",
   "execution_count": 683,
   "id": "8a83c9dc",
   "metadata": {},
   "outputs": [
    {
     "data": {
      "text/html": [
       "<div>\n",
       "<style scoped>\n",
       "    .dataframe tbody tr th:only-of-type {\n",
       "        vertical-align: middle;\n",
       "    }\n",
       "\n",
       "    .dataframe tbody tr th {\n",
       "        vertical-align: top;\n",
       "    }\n",
       "\n",
       "    .dataframe thead th {\n",
       "        text-align: right;\n",
       "    }\n",
       "</style>\n",
       "<table border=\"1\" class=\"dataframe\">\n",
       "  <thead>\n",
       "    <tr style=\"text-align: right;\">\n",
       "      <th></th>\n",
       "      <th>skills</th>\n",
       "      <th>educational_institution_name</th>\n",
       "      <th>degree_names</th>\n",
       "      <th>passing_years</th>\n",
       "      <th>educational_results</th>\n",
       "      <th>result_types</th>\n",
       "      <th>major_field_of_studies</th>\n",
       "      <th>start_dates</th>\n",
       "      <th>end_dates</th>\n",
       "      <th>related_skils_in_job</th>\n",
       "      <th>certification_skills</th>\n",
       "      <th>﻿job_position_name</th>\n",
       "      <th>educationaL_requirements</th>\n",
       "      <th>experiencere_requirement</th>\n",
       "      <th>age_requirement</th>\n",
       "      <th>skills_required</th>\n",
       "      <th>matched_score</th>\n",
       "    </tr>\n",
       "  </thead>\n",
       "  <tbody>\n",
       "    <tr>\n",
       "      <th>0</th>\n",
       "      <td>['Big Data', 'Hadoop', 'Hive', 'Python', 'Mapr...</td>\n",
       "      <td>['The Amity School of Engineering &amp; Technology...</td>\n",
       "      <td>['B.Tech']</td>\n",
       "      <td>['2019']</td>\n",
       "      <td>['N/A']</td>\n",
       "      <td>[None]</td>\n",
       "      <td>['Electronics']</td>\n",
       "      <td>['Nov 2019']</td>\n",
       "      <td>['Till Date']</td>\n",
       "      <td>[['Big Data']]</td>\n",
       "      <td>NaN</td>\n",
       "      <td>Senior Software Engineer</td>\n",
       "      <td>B.Sc in Computer Science &amp; Engineering from a ...</td>\n",
       "      <td>At least 1 year</td>\n",
       "      <td>NaN</td>\n",
       "      <td>NaN</td>\n",
       "      <td>0.850000</td>\n",
       "    </tr>\n",
       "    <tr>\n",
       "      <th>1</th>\n",
       "      <td>['Data Analysis', 'Data Analytics', 'Business ...</td>\n",
       "      <td>['Delhi University - Hansraj College', 'Delhi ...</td>\n",
       "      <td>['B.Sc (Maths)', 'M.Sc (Science) (Statistics)']</td>\n",
       "      <td>['2015', '2018']</td>\n",
       "      <td>['N/A', 'N/A']</td>\n",
       "      <td>['N/A', 'N/A']</td>\n",
       "      <td>['Mathematics', 'Statistics']</td>\n",
       "      <td>['Sep 2019']</td>\n",
       "      <td>['Till Date']</td>\n",
       "      <td>[['Data Analysis', 'Business Analysis', 'Machi...</td>\n",
       "      <td>NaN</td>\n",
       "      <td>Machine Learning (ML) Engineer</td>\n",
       "      <td>M.Sc in Computer Science &amp; Engineering or in a...</td>\n",
       "      <td>At least 5 year(s)</td>\n",
       "      <td>NaN</td>\n",
       "      <td>NaN</td>\n",
       "      <td>0.750000</td>\n",
       "    </tr>\n",
       "    <tr>\n",
       "      <th>2</th>\n",
       "      <td>['Software Development', 'Machine Learning', '...</td>\n",
       "      <td>['Birla Institute of Technology (BIT), Ranchi']</td>\n",
       "      <td>['B.Tech']</td>\n",
       "      <td>['2018']</td>\n",
       "      <td>['N/A']</td>\n",
       "      <td>['N/A']</td>\n",
       "      <td>['Electronics/Telecommunication']</td>\n",
       "      <td>['June 2018']</td>\n",
       "      <td>['Till Date']</td>\n",
       "      <td>[['Unified Payment Interface', 'Risk Predictio...</td>\n",
       "      <td>NaN</td>\n",
       "      <td>Executive/ Senior Executive- Trade Marketing, ...</td>\n",
       "      <td>Master of Business Administration (MBA)</td>\n",
       "      <td>At least 3 years</td>\n",
       "      <td>NaN</td>\n",
       "      <td>Brand Promotion\\nCampaign Management\\nField Su...</td>\n",
       "      <td>0.416667</td>\n",
       "    </tr>\n",
       "    <tr>\n",
       "      <th>3</th>\n",
       "      <td>['accounts payables', 'accounts receivables', ...</td>\n",
       "      <td>['Martinez Adult Education, Business Training ...</td>\n",
       "      <td>['Computer Applications Specialist Certificate...</td>\n",
       "      <td>['2008']</td>\n",
       "      <td>[None]</td>\n",
       "      <td>[None]</td>\n",
       "      <td>['Computer Applications']</td>\n",
       "      <td>['January 2011', 'January 2008', 'January 2006...</td>\n",
       "      <td>['November 2015', 'January 2010', 'January 200...</td>\n",
       "      <td>[['accounts receivables', 'banking', 'G/L Acco...</td>\n",
       "      <td>NaN</td>\n",
       "      <td>Business Development Executive</td>\n",
       "      <td>Bachelor/Honors</td>\n",
       "      <td>1 to 3 years</td>\n",
       "      <td>Age 22 to 30 years</td>\n",
       "      <td>Fast typing skill\\nIELTSInternet browsing &amp; on...</td>\n",
       "      <td>0.760000</td>\n",
       "    </tr>\n",
       "    <tr>\n",
       "      <th>4</th>\n",
       "      <td>['Analytical reasoning', 'Compliance testing k...</td>\n",
       "      <td>['Kent State University']</td>\n",
       "      <td>['Bachelor of Business Administration']</td>\n",
       "      <td>[None]</td>\n",
       "      <td>['3.84']</td>\n",
       "      <td>[None]</td>\n",
       "      <td>['Accounting']</td>\n",
       "      <td>['January 2016', 'January 2016', 'January 2012...</td>\n",
       "      <td>['Current', 'January 2016', 'January 2015', 'J...</td>\n",
       "      <td>[['collections', 'accounts receivable', 'finan...</td>\n",
       "      <td>[None]</td>\n",
       "      <td>Senior iOS Engineer</td>\n",
       "      <td>Bachelor of Science (BSc) in Computer Science</td>\n",
       "      <td>At least 4 years</td>\n",
       "      <td>NaN</td>\n",
       "      <td>iOS\\niOS App Developer\\niOS Application Develo...</td>\n",
       "      <td>0.650000</td>\n",
       "    </tr>\n",
       "  </tbody>\n",
       "</table>\n",
       "</div>"
      ],
      "text/plain": [
       "                                              skills  \\\n",
       "0  ['Big Data', 'Hadoop', 'Hive', 'Python', 'Mapr...   \n",
       "1  ['Data Analysis', 'Data Analytics', 'Business ...   \n",
       "2  ['Software Development', 'Machine Learning', '...   \n",
       "3  ['accounts payables', 'accounts receivables', ...   \n",
       "4  ['Analytical reasoning', 'Compliance testing k...   \n",
       "\n",
       "                        educational_institution_name  \\\n",
       "0  ['The Amity School of Engineering & Technology...   \n",
       "1  ['Delhi University - Hansraj College', 'Delhi ...   \n",
       "2    ['Birla Institute of Technology (BIT), Ranchi']   \n",
       "3  ['Martinez Adult Education, Business Training ...   \n",
       "4                          ['Kent State University']   \n",
       "\n",
       "                                        degree_names     passing_years  \\\n",
       "0                                         ['B.Tech']          ['2019']   \n",
       "1    ['B.Sc (Maths)', 'M.Sc (Science) (Statistics)']  ['2015', '2018']   \n",
       "2                                         ['B.Tech']          ['2018']   \n",
       "3  ['Computer Applications Specialist Certificate...          ['2008']   \n",
       "4            ['Bachelor of Business Administration']            [None]   \n",
       "\n",
       "  educational_results    result_types             major_field_of_studies  \\\n",
       "0             ['N/A']          [None]                    ['Electronics']   \n",
       "1      ['N/A', 'N/A']  ['N/A', 'N/A']      ['Mathematics', 'Statistics']   \n",
       "2             ['N/A']         ['N/A']  ['Electronics/Telecommunication']   \n",
       "3              [None]          [None]          ['Computer Applications']   \n",
       "4            ['3.84']          [None]                     ['Accounting']   \n",
       "\n",
       "                                         start_dates  \\\n",
       "0                                       ['Nov 2019']   \n",
       "1                                       ['Sep 2019']   \n",
       "2                                      ['June 2018']   \n",
       "3  ['January 2011', 'January 2008', 'January 2006...   \n",
       "4  ['January 2016', 'January 2016', 'January 2012...   \n",
       "\n",
       "                                           end_dates  \\\n",
       "0                                      ['Till Date']   \n",
       "1                                      ['Till Date']   \n",
       "2                                      ['Till Date']   \n",
       "3  ['November 2015', 'January 2010', 'January 200...   \n",
       "4  ['Current', 'January 2016', 'January 2015', 'J...   \n",
       "\n",
       "                                related_skils_in_job certification_skills  \\\n",
       "0                                     [['Big Data']]                  NaN   \n",
       "1  [['Data Analysis', 'Business Analysis', 'Machi...                  NaN   \n",
       "2  [['Unified Payment Interface', 'Risk Predictio...                  NaN   \n",
       "3  [['accounts receivables', 'banking', 'G/L Acco...                  NaN   \n",
       "4  [['collections', 'accounts receivable', 'finan...               [None]   \n",
       "\n",
       "                                  ﻿job_position_name  \\\n",
       "0                           Senior Software Engineer   \n",
       "1                     Machine Learning (ML) Engineer   \n",
       "2  Executive/ Senior Executive- Trade Marketing, ...   \n",
       "3                     Business Development Executive   \n",
       "4                                Senior iOS Engineer   \n",
       "\n",
       "                            educationaL_requirements experiencere_requirement  \\\n",
       "0  B.Sc in Computer Science & Engineering from a ...          At least 1 year   \n",
       "1  M.Sc in Computer Science & Engineering or in a...       At least 5 year(s)   \n",
       "2            Master of Business Administration (MBA)         At least 3 years   \n",
       "3                                    Bachelor/Honors             1 to 3 years   \n",
       "4      Bachelor of Science (BSc) in Computer Science         At least 4 years   \n",
       "\n",
       "      age_requirement                                    skills_required  \\\n",
       "0                 NaN                                                NaN   \n",
       "1                 NaN                                                NaN   \n",
       "2                 NaN  Brand Promotion\\nCampaign Management\\nField Su...   \n",
       "3  Age 22 to 30 years  Fast typing skill\\nIELTSInternet browsing & on...   \n",
       "4                 NaN  iOS\\niOS App Developer\\niOS Application Develo...   \n",
       "\n",
       "   matched_score  \n",
       "0       0.850000  \n",
       "1       0.750000  \n",
       "2       0.416667  \n",
       "3       0.760000  \n",
       "4       0.650000  "
      ]
     },
     "execution_count": 683,
     "metadata": {},
     "output_type": "execute_result"
    }
   ],
   "source": [
    "df.head()"
   ]
  },
  {
   "cell_type": "markdown",
   "id": "353445b0",
   "metadata": {},
   "source": [
    "clearing N/A 's from dates arrays"
   ]
  },
  {
   "cell_type": "code",
   "execution_count": 687,
   "id": "47f42652",
   "metadata": {},
   "outputs": [],
   "source": [
    "import ast\n",
    "\n",
    "def remove_na_and_none_from_list(col):\n",
    "    def clean(entry):\n",
    "        try:\n",
    "            # if already a list, skip parsing\n",
    "            if isinstance(entry, list):\n",
    "                items = entry\n",
    "            else:\n",
    "                items = ast.literal_eval(entry)\n",
    "            return [i for i in items if str(i).strip().upper() not in ['N/A', 'NONE'] and i is not None]\n",
    "        except:\n",
    "            return entry  # return original if parsing fails\n",
    "    return col.apply(clean)\n",
    "\n",
    "df['start_dates'] = remove_na_and_none_from_list(df['start_dates'])\n",
    "df['end_dates'] = remove_na_and_none_from_list(df['end_dates'])\n"
   ]
  },
  {
   "cell_type": "markdown",
   "id": "cc0bff11",
   "metadata": {},
   "source": [
    "Convert seasons('Summer', 'Fall',....) into months"
   ]
  },
  {
   "cell_type": "code",
   "execution_count": 690,
   "id": "eb0e0e84",
   "metadata": {},
   "outputs": [],
   "source": [
    "import re\n",
    "\n",
    "def replace_seasons_with_months(col):\n",
    "    # Mapping of season to month\n",
    "    season_to_month = {\n",
    "        'spring': '03',\n",
    "        'summer': '06',\n",
    "        'fall': '09',\n",
    "        'autumn': '09',\n",
    "        'winter': '12',\n",
    "    }\n",
    "\n",
    "    def replace_season(entry):\n",
    "        try:\n",
    "            items = ast.literal_eval(entry) if isinstance(entry, str) else entry\n",
    "            updated_items = []\n",
    "            for item in items:\n",
    "                if item is None:\n",
    "                    updated_items.append(item)\n",
    "                    continue\n",
    "                # Match season followed by year, e.g., \"Summer 2013\"\n",
    "                match = re.match(r'(?i)\\b(spring|summer|fall|autumn|winter)\\b\\s+(\\d{4})', str(item).strip())\n",
    "                if match:\n",
    "                    season = match.group(1).lower()\n",
    "                    year = match.group(2)\n",
    "                    month = season_to_month.get(season)\n",
    "                    updated_items.append(f\"{month}/{year}\")\n",
    "                else:\n",
    "                    updated_items.append(item)\n",
    "            return updated_items\n",
    "        except:\n",
    "            return entry  # keep original if parsing fails\n",
    "\n",
    "    return col.apply(replace_season)\n",
    "\n",
    "df['start_dates'] = replace_seasons_with_months(df['start_dates'])\n",
    "df['end_dates'] = replace_seasons_with_months(df['end_dates'])\n",
    "\n"
   ]
  },
  {
   "cell_type": "markdown",
   "id": "73673cff",
   "metadata": {},
   "source": [
    "replace 'till date', 'current', 'present', 'ongoing', '∞' with today date"
   ]
  },
  {
   "cell_type": "code",
   "execution_count": 693,
   "id": "a4d13f94",
   "metadata": {},
   "outputs": [],
   "source": [
    "from datetime import datetime\n",
    "import ast\n",
    "\n",
    "def replace_current_terms_with_today(col):\n",
    "    today_str = datetime.today().strftime('%b %d %Y')  # Example: 'Apr 22 2025'\n",
    "    keywords = {'till date', 'current', 'ongoing', 'present', '∞'}\n",
    "\n",
    "    def clean(entry):\n",
    "        try:\n",
    "            items = ast.literal_eval(entry) if isinstance(entry, str) else entry\n",
    "            return [\n",
    "                today_str if isinstance(i, str) and i.strip().lower() in keywords else i\n",
    "                for i in items\n",
    "            ]\n",
    "        except:\n",
    "            return entry  # return as-is if parsing fails\n",
    "\n",
    "    return col.apply(clean)\n",
    "\n",
    "# Apply it\n",
    "df['start_dates'] = replace_current_terms_with_today(df['start_dates'])\n",
    "df['end_dates'] = replace_current_terms_with_today(df['end_dates'])\n"
   ]
  },
  {
   "cell_type": "markdown",
   "id": "5804718d",
   "metadata": {},
   "source": [
    "filter and display rows where either start_dates or end_dates columns contains any item with the substring\"20XX\""
   ]
  },
  {
   "cell_type": "code",
   "execution_count": 696,
   "id": "d83f227d",
   "metadata": {},
   "outputs": [
    {
     "name": "stdout",
     "output_type": "stream",
     "text": [
      "                 start_dates                         end_dates\n",
      "81    [May 20XX, April 20XX]           [August 20XX, May 20XX]\n",
      "180       [20xx, 20xx, 20xx]  [Apr 23 2025, Apr 23 2025, 20xx]\n",
      "222   [May 20XX, April 20XX]           [August 20XX, May 20XX]\n",
      "548       [20xx, 20xx, 20xx]  [Apr 23 2025, Apr 23 2025, 20xx]\n",
      "632         [September 20XX]                      [April 20XX]\n",
      "...                      ...                               ...\n",
      "9267        [September 20XX]                      [April 20XX]\n",
      "9324        [September 20XX]                      [April 20XX]\n",
      "9373  [May 20XX, April 20XX]           [August 20XX, May 20XX]\n",
      "9453        [September 20XX]                      [April 20XX]\n",
      "9508      [20xx, 20xx, 20xx]  [Apr 23 2025, Apr 23 2025, 20xx]\n",
      "\n",
      "[84 rows x 2 columns]\n"
     ]
    }
   ],
   "source": [
    "import ast\n",
    "\n",
    "def contains_20xx(entry):\n",
    "    try:\n",
    "        items = ast.literal_eval(entry) if isinstance(entry, str) else entry\n",
    "        return any(isinstance(i, str) and '20xx' in i.lower() for i in items)\n",
    "    except:\n",
    "        return False\n",
    "\n",
    "mask = df['start_dates'].apply(contains_20xx) | df['end_dates'].apply(contains_20xx)\n",
    "df_with_20xx = df.loc[mask, ['start_dates', 'end_dates']]\n",
    "\n",
    "print(df_with_20xx)\n"
   ]
  },
  {
   "cell_type": "markdown",
   "id": "05dad802",
   "metadata": {},
   "source": [
    "replace them with 'unknown'"
   ]
  },
  {
   "cell_type": "code",
   "execution_count": 697,
   "id": "cd758938",
   "metadata": {},
   "outputs": [],
   "source": [
    "import ast\n",
    "\n",
    "def replace_array_with_unknown(entry):\n",
    "    try:\n",
    "        items = ast.literal_eval(entry) if isinstance(entry, str) else entry\n",
    "        if any(isinstance(i, str) and '20xx' in i.lower() for i in items):\n",
    "            return 'unknown'  # Replace entire array with the string 'unknown'\n",
    "        return items\n",
    "    except:\n",
    "        return entry\n",
    "\n",
    "df['start_dates'] = df['start_dates'].apply(replace_array_with_unknown)\n",
    "df['end_dates'] = df['end_dates'].apply(replace_array_with_unknown)\n"
   ]
  },
  {
   "cell_type": "markdown",
   "id": "45b49825",
   "metadata": {},
   "source": [
    "replace each record in start_dates and end_dates with 'unknown' if either one of them contains an empty array."
   ]
  },
  {
   "cell_type": "code",
   "execution_count": 700,
   "id": "61ca3548",
   "metadata": {},
   "outputs": [],
   "source": [
    "import ast\n",
    "\n",
    "def replace_empty_array_with_unknown(row):\n",
    "    try:\n",
    "        # Parse the entries if they are string representations of lists\n",
    "        start = ast.literal_eval(row['start_dates']) if isinstance(row['start_dates'], str) else row['start_dates']\n",
    "        end = ast.literal_eval(row['end_dates']) if isinstance(row['end_dates'], str) else row['end_dates']\n",
    "        \n",
    "        # Check if either start or end is an empty list\n",
    "        if isinstance(start, list) and len(start) == 0 or isinstance(end, list) and len(end) == 0:\n",
    "            return pd.Series({'start_dates': 'unknown', 'end_dates': 'unknown'})\n",
    "        else:\n",
    "            return pd.Series({'start_dates': row['start_dates'], 'end_dates': row['end_dates']})\n",
    "    except:\n",
    "        # In case of any parsing error, return the original values\n",
    "        return pd.Series({'start_dates': row['start_dates'], 'end_dates': row['end_dates']})\n",
    "\n",
    "# Apply the function to each row\n",
    "df[['start_dates', 'end_dates']] = df.apply(replace_empty_array_with_unknown, axis=1)\n"
   ]
  },
  {
   "cell_type": "markdown",
   "id": "5679c510",
   "metadata": {},
   "source": [
    "converting all dates in string format to YYYY-MM"
   ]
  },
  {
   "cell_type": "code",
   "execution_count": 705,
   "id": "c2a58674",
   "metadata": {},
   "outputs": [],
   "source": [
    "import numpy as np\n",
    "import pandas as pd\n",
    "from dateutil import parser\n",
    "import ast\n",
    "\n",
    "def standardize_date_array(entry):\n",
    "    if isinstance(entry, str) and entry == 'unknown':\n",
    "        return entry\n",
    "    if isinstance(entry, float) and pd.isna(entry):\n",
    "        return entry\n",
    "\n",
    "    try:\n",
    "        items = ast.literal_eval(entry) if isinstance(entry, str) else entry\n",
    "        if not isinstance(items, list):  # guard clause\n",
    "            return entry\n",
    "\n",
    "        cleaned = []\n",
    "        for item in items:\n",
    "            if isinstance(item, str):\n",
    "                try:\n",
    "                    parsed = parser.parse(item, fuzzy=True)\n",
    "                    cleaned.append(parsed.strftime('%Y-%m'))\n",
    "                except:\n",
    "                    cleaned.append(item)\n",
    "            else:\n",
    "                cleaned.append(item)\n",
    "        return cleaned\n",
    "    except:\n",
    "        return entry\n",
    "    \n",
    "df['start_dates'] = df['start_dates'].apply(standardize_date_array)\n",
    "df['end_dates'] = df['end_dates'].apply(standardize_date_array)\n"
   ]
  },
  {
   "cell_type": "markdown",
   "id": "89558bce",
   "metadata": {},
   "source": [
    "check if there are arrays with unequal length"
   ]
  },
  {
   "cell_type": "code",
   "execution_count": 707,
   "id": "90716f06",
   "metadata": {},
   "outputs": [
    {
     "name": "stdout",
     "output_type": "stream",
     "text": [
      "Total records with unequal-length date arrays: 452\n"
     ]
    }
   ],
   "source": [
    "import ast\n",
    "\n",
    "def count_unequal_length_date_arrays(df):\n",
    "    count = 0\n",
    "    for start, end in zip(df['start_dates'], df['end_dates']):\n",
    "        if isinstance(start, list) and isinstance(end, list):\n",
    "            if len(start) != len(end):\n",
    "                count += 1\n",
    "    return count\n",
    "\n",
    "unequal_length_count = count_unequal_length_date_arrays(df)\n",
    "print(\"Total records with unequal-length date arrays:\", unequal_length_count)\n"
   ]
  },
  {
   "cell_type": "markdown",
   "id": "df614a69",
   "metadata": {},
   "source": [
    "replace the entries having unequal array length with string 'unknown'."
   ]
  },
  {
   "cell_type": "code",
   "execution_count": 708,
   "id": "896ab550",
   "metadata": {},
   "outputs": [],
   "source": [
    "def replace_unequal_length_records(df):\n",
    "    for idx, (start, end) in enumerate(zip(df['start_dates'], df['end_dates'])):\n",
    "        if isinstance(start, list) and isinstance(end, list):\n",
    "            if len(start) != len(end):\n",
    "                df.at[idx, 'start_dates'] = 'unknown'\n",
    "                df.at[idx, 'end_dates'] = 'unknown'\n",
    "    return df\n",
    "\n",
    "# Apply the function to your dataframe\n",
    "df = replace_unequal_length_records(df)\n"
   ]
  },
  {
   "cell_type": "markdown",
   "id": "ab1f5c68",
   "metadata": {},
   "source": [
    "sorting the dates arrays in accending order in both columns"
   ]
  },
  {
   "cell_type": "code",
   "execution_count": 710,
   "id": "fe349818",
   "metadata": {},
   "outputs": [],
   "source": [
    "from datetime import datetime\n",
    "\n",
    "def sort_dates_in_array(entry):\n",
    "    try:\n",
    "        # Convert string dates to datetime objects for sorting\n",
    "        items = ast.literal_eval(entry) if isinstance(entry, str) else entry\n",
    "        # Sort the items based on datetime conversion\n",
    "        sorted_items = sorted(items, key=lambda x: datetime.strptime(x, '%b %Y') if ' ' in x else datetime.strptime(x, '%m/%Y') if '/' in x else datetime.strptime(x, '%Y-%m'))\n",
    "        return sorted_items\n",
    "    except:\n",
    "        return entry  # If any error occurs, return the original entry\n",
    "\n",
    "# Apply the sorting function to both start_dates and end_dates\n",
    "df['start_dates'] = df['start_dates'].apply(sort_dates_in_array)\n",
    "df['end_dates'] = df['end_dates'].apply(sort_dates_in_array)\n",
    "from datetime import datetime\n",
    "\n",
    "def sort_dates_in_array(entry):\n",
    "    try:\n",
    "        # Convert string dates to datetime objects for sorting\n",
    "        items = ast.literal_eval(entry) if isinstance(entry, str) else entry\n",
    "        # Sort the items based on datetime conversion\n",
    "        sorted_items = sorted(items, key=lambda x: datetime.strptime(x, '%b %Y') if ' ' in x else datetime.strptime(x, '%m/%Y') if '/' in x else datetime.strptime(x, '%Y-%m'))\n",
    "        return sorted_items\n",
    "    except:\n",
    "        return entry  # If any error occurs, return the original entry\n",
    "\n",
    "# Apply the sorting function to both start_dates and end_dates\n",
    "df['start_dates'] = df['start_dates'].apply(sort_dates_in_array)\n",
    "df['end_dates'] = df['end_dates'].apply(sort_dates_in_array)\n"
   ]
  },
  {
   "cell_type": "code",
   "execution_count": 713,
   "id": "6fc1b4e4",
   "metadata": {},
   "outputs": [],
   "source": [
    "def calculate_experience(start_dates, end_dates):\n",
    "    # Check for 'unknown' in strings\n",
    "    if isinstance(start_dates, str) and start_dates.lower() == 'unknown':\n",
    "        return 'unknown'\n",
    "    if isinstance(end_dates, str) and end_dates.lower() == 'unknown':\n",
    "        return 'unknown'\n",
    "\n",
    "    # Check for 'unknown' inside lists\n",
    "    if isinstance(start_dates, list) and any(str(d).lower() == 'unknown' for d in start_dates):\n",
    "        return 'unknown'\n",
    "    if isinstance(end_dates, list) and any(str(d).lower() == 'unknown' for d in end_dates):\n",
    "        return 'unknown'\n",
    "\n",
    "    # Check for NaNs safely\n",
    "    if isinstance(start_dates, list):\n",
    "        if any(pd.isna(d) for d in start_dates):\n",
    "            return np.nan\n",
    "    elif pd.isna(start_dates):\n",
    "        return np.nan\n",
    "\n",
    "    if isinstance(end_dates, list):\n",
    "        if any(pd.isna(d) for d in end_dates):\n",
    "            return np.nan\n",
    "    elif pd.isna(end_dates):\n",
    "        return np.nan\n",
    "\n",
    "    # Calculate total years of experience\n",
    "    total_years = 0\n",
    "    for start, end in zip(start_dates, end_dates):\n",
    "        try:\n",
    "            start_dt = datetime.strptime(str(start).strip(), '%Y-%m')\n",
    "            end_dt = datetime.strptime(str(end).strip(), '%Y-%m')\n",
    "            total_years += (end_dt - start_dt).days / 365.25\n",
    "        except Exception:\n",
    "            return np.nan  # Invalid date format\n",
    "\n",
    "    return round(total_years, 2) if total_years != 0 else np.nan\n",
    "\n",
    "df['experience_years'] = df.apply(\n",
    "    lambda row: calculate_experience(row['start_dates'], row['end_dates']),\n",
    "    axis=1\n",
    ")\n"
   ]
  },
  {
   "cell_type": "code",
   "execution_count": 716,
   "id": "f2ccb2cf",
   "metadata": {},
   "outputs": [
    {
     "name": "stdout",
     "output_type": "stream",
     "text": [
      "Total 'unknown' in experience_years: 788\n"
     ]
    }
   ],
   "source": [
    "# Count how many 'unknown' strings are in the experience_years column\n",
    "unknown_experience_count = (df['experience_years']=='unknown').sum()\n",
    "\n",
    "print(\"Total 'unknown' in experience_years:\", unknown_experience_count)\n"
   ]
  },
  {
   "cell_type": "markdown",
   "id": "ccf0886f",
   "metadata": {},
   "source": [
    "now remove the 'start_dates' and 'end_dates' columns, because they are no longer useful"
   ]
  },
  {
   "cell_type": "code",
   "execution_count": 719,
   "id": "404699ac",
   "metadata": {},
   "outputs": [],
   "source": [
    "df = df.drop(['start_dates', 'end_dates'], axis=1)"
   ]
  },
  {
   "cell_type": "markdown",
   "id": "54dfce82",
   "metadata": {},
   "source": [
    "'start_dates' and 'end_dates' columns has cleaned. and now the new column 'experience_years' ready to go!\n",
    "total 'unknown' s are 788 and total 'nan's 112. "
   ]
  }
 ],
 "metadata": {
  "kernelspec": {
   "display_name": "Python (MyGlobalEnv)",
   "language": "python",
   "name": "myglobalenv"
  },
  "language_info": {
   "codemirror_mode": {
    "name": "ipython",
    "version": 3
   },
   "file_extension": ".py",
   "mimetype": "text/x-python",
   "name": "python",
   "nbconvert_exporter": "python",
   "pygments_lexer": "ipython3",
   "version": "3.12.8"
  }
 },
 "nbformat": 4,
 "nbformat_minor": 5
}
