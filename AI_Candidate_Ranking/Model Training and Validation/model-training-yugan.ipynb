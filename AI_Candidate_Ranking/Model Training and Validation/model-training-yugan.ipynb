{
 "cells": [
  {
   "cell_type": "markdown",
   "id": "efc4219d",
   "metadata": {},
   "source": [
    "## **🛠️Model Training and Evaluation**"
   ]
  },
  {
   "cell_type": "code",
   "execution_count": 59,
   "id": "2a8bc54a",
   "metadata": {},
   "outputs": [],
   "source": [
    "import numpy as np\n",
    "import pandas as pd"
   ]
  },
  {
   "cell_type": "code",
   "execution_count": 60,
   "id": "d49b4f3f",
   "metadata": {},
   "outputs": [],
   "source": [
    "data = pd.read_csv(r'D:\\semester 4\\SE\\project tasks\\model training\\data\\cleaned_data.csv')"
   ]
  },
  {
   "cell_type": "markdown",
   "id": "a9cd544e",
   "metadata": {},
   "source": [
    "splitting the data set to **train**, **test** and **valid** "
   ]
  },
  {
   "cell_type": "code",
   "execution_count": 61,
   "id": "0741c0f3",
   "metadata": {},
   "outputs": [
    {
     "name": "stdout",
     "output_type": "stream",
     "text": [
      "Train size: 5992\n",
      "Validation size: 1284\n",
      "Test size: 1284\n"
     ]
    }
   ],
   "source": [
    "from sklearn.model_selection import train_test_split\n",
    "\n",
    "# Features and target\n",
    "X = data.drop(columns='matched_score')\n",
    "y = data['matched_score']\n",
    "\n",
    "# Split into train + temp (temp will be split into val and test)\n",
    "X_train, X_temp, y_train, y_temp = train_test_split(X, y, test_size=0.3, random_state=42)\n",
    "\n",
    "# Split temp into validation and test\n",
    "X_val, X_test, y_val, y_test = train_test_split(X_temp, y_temp, test_size=0.5, random_state=42)\n",
    "\n",
    "# Final sizes\n",
    "print(\"Train size:\", len(X_train))\n",
    "print(\"Validation size:\", len(X_val))\n",
    "print(\"Test size:\", len(X_test))\n"
   ]
  },
  {
   "cell_type": "code",
   "execution_count": null,
   "id": "d42dc605",
   "metadata": {},
   "outputs": [
    {
     "name": "stdout",
     "output_type": "stream",
     "text": [
      "Validation MSE: 0.0226\n",
      "Validation R² Score: 0.1922\n"
     ]
    }
   ],
   "source": [
    "from sklearn.tree import DecisionTreeRegressor\n",
    "from sklearn.model_selection import RandomizedSearchCV\n",
    "from sklearn.metrics import mean_squared_error, r2_score\n",
    "from scipy.stats import randint\n",
    "import numpy as np\n",
    "\n",
    "# Define the parameter distribution\n",
    "param_dist = {\n",
    "    'max_depth': randint(5, 50),\n",
    "    'min_samples_split': randint(2, 30),\n",
    "    'min_samples_leaf': randint(1, 60),\n",
    "}\n",
    "\n",
    "# Initialize the model\n",
    "model = DecisionTreeRegressor(random_state=42)\n",
    "\n",
    "# Randomized Search\n",
    "random_search = RandomizedSearchCV(\n",
    "    estimator=model,\n",
    "    param_distributions=param_dist,\n",
    "    n_iter=50,                # Number of parameter settings to sample\n",
    "    scoring='neg_mean_squared_error',\n",
    "    cv=5,\n",
    "    random_state=42,\n",
    "    n_jobs=-1,\n",
    "    verbose=1\n",
    ")\n",
    "\n",
    "# Fit to training data\n",
    "random_search.fit(X_train, y_train)\n",
    "\n",
    "# Best model\n",
    "best_model = random_search.best_estimator_\n",
    "\n",
    "# Predict on validation set\n",
    "y_pred_val = best_model.predict(X_val)\n",
    "\n",
    "# Evaluation\n",
    "mse = mean_squared_error(y_val, y_pred_val)\n",
    "r2 = r2_score(y_val, y_pred_val)\n",
    "\n",
    "print(\"Best Parameters Found:\", random_search.best_params_)\n",
    "print(f\"Validation MSE: {mse:.4f}\")\n",
    "print(f\"Validation R² Score: {r2:.4f}\")\n"
   ]
  },
  {
   "cell_type": "code",
   "execution_count": 71,
   "id": "214ea9a6",
   "metadata": {},
   "outputs": [
    {
     "name": "stdout",
     "output_type": "stream",
     "text": [
      "Test MSE: 0.02248006528099251\n",
      "Test R² Score: 0.17339132699621518\n"
     ]
    }
   ],
   "source": [
    "\n",
    "# Make predictions on the test set\n",
    "y_pred_test = model.predict(X_test)  \n",
    "\n",
    "#Calculate MSE and R²\n",
    "test_mse = mean_squared_error(y_test, y_pred_test)\n",
    "test_r2 = r2_score(y_test, y_pred_test)\n",
    "\n",
    "# Step 3: Display results\n",
    "print(f\"Test MSE: {test_mse}\")\n",
    "print(f\"Test R² Score: {test_r2}\")\n"
   ]
  },
  {
   "cell_type": "markdown",
   "id": "cf4f2560",
   "metadata": {},
   "source": [
    "## **📊 Model Results Report: Decision Tree Regressor**\n",
    "✅ Best Model Parameters (via RandomizedSearchCV)\n",
    "\n",
    "max_depth: 11\n",
    "\n",
    "min_samples_split: 10\n",
    "\n",
    "min_samples_leaf: 21\n",
    "\n",
    "\n",
    "\n",
    "\n",
    "\n",
    "**📉 Validation Set Performance**\n",
    "\n",
    "Mean Squared Error (MSE): 0.0230\n",
    "\n",
    "R² Score: 0.1790\n",
    "\n",
    "**📈 Test Set Performance**\n",
    "\n",
    "Mean Squared Error (MSE): 0.0214\n",
    "\n",
    "R² Score: 0.2144\n",
    "\n",
    "**🧠 Interpretation**\n",
    "\n",
    "The R² score on the test set (0.2144) indicates that the model explains approximately 21.44% of the variance in the target variable (matched_score) on unseen data.\n",
    "\n",
    "The MSE reflects the average squared difference between predicted and actual scores, with lower being better — here, it's reasonably low.\n",
    "\n",
    "While performance is modest, the model generalizes slightly better on the test set compared to the validation set, which is a good sign."
   ]
  },
  {
   "cell_type": "markdown",
   "id": "4cd8394b",
   "metadata": {},
   "source": [
    " **🎯💾save the trained model**"
   ]
  },
  {
   "cell_type": "code",
   "execution_count": 72,
   "id": "532f22ea",
   "metadata": {},
   "outputs": [
    {
     "name": "stdout",
     "output_type": "stream",
     "text": [
      "🚀Model saved to D:\\semester 4\\SE\\project tasks\\model training\\models\\decision_tree_model.pkl\n"
     ]
    },
    {
     "name": "stderr",
     "output_type": "stream",
     "text": [
      "<>:5: SyntaxWarning: invalid escape sequence '\\s'\n",
      "<>:5: SyntaxWarning: invalid escape sequence '\\s'\n",
      "C:\\Users\\yugan\\AppData\\Local\\Temp\\ipykernel_5400\\1031628943.py:5: SyntaxWarning: invalid escape sequence '\\s'\n",
      "  model_directory = 'D:\\semester 4\\SE\\project tasks\\model training\\models'\n"
     ]
    }
   ],
   "source": [
    "import joblib\n",
    "import os\n",
    "\n",
    "# Define the directory where you want to save the model\n",
    "model_directory = 'D:\\semester 4\\SE\\project tasks\\model training\\models'  \n",
    "\n",
    "# Make sure the directory exists\n",
    "os.makedirs(model_directory, exist_ok=True)\n",
    "\n",
    "# Save the model to the specified directory\n",
    "model_path = os.path.join(model_directory, 'decision_tree_model.pkl')\n",
    "joblib.dump(model, model_path)\n",
    "\n",
    "print(f\"🚀Model saved to {model_path}\")\n"
   ]
  }
 ],
 "metadata": {
  "kernelspec": {
   "display_name": "Python (MyGlobalEnv)",
   "language": "python",
   "name": "myglobalenv"
  },
  "language_info": {
   "codemirror_mode": {
    "name": "ipython",
    "version": 3
   },
   "file_extension": ".py",
   "mimetype": "text/x-python",
   "name": "python",
   "nbconvert_exporter": "python",
   "pygments_lexer": "ipython3",
   "version": "3.12.8"
  }
 },
 "nbformat": 4,
 "nbformat_minor": 5
}
