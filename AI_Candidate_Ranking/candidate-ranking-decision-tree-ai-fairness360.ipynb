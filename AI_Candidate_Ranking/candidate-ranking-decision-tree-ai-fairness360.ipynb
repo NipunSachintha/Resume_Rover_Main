{
 "cells": [
  {
   "cell_type": "code",
   "execution_count": 1,
   "id": "04ad6070",
   "metadata": {
    "_cell_guid": "b1076dfc-b9ad-4769-8c92-a6c4dae69d19",
    "_uuid": "8f2839f25d086af736a60e9eeb907d3b93b6e0e5",
    "execution": {
     "iopub.execute_input": "2025-05-06T16:23:53.677397Z",
     "iopub.status.busy": "2025-05-06T16:23:53.677087Z",
     "iopub.status.idle": "2025-05-06T16:23:55.752257Z",
     "shell.execute_reply": "2025-05-06T16:23:55.751135Z"
    },
    "papermill": {
     "duration": 2.083639,
     "end_time": "2025-05-06T16:23:55.754043",
     "exception": false,
     "start_time": "2025-05-06T16:23:53.670404",
     "status": "completed"
    },
    "tags": []
   },
   "outputs": [
    {
     "name": "stdout",
     "output_type": "stream",
     "text": [
      "/kaggle/input/resume-cleaned-dataset/df_cleaned.csv\n"
     ]
    }
   ],
   "source": [
    "# This Python 3 environment comes with many helpful analytics libraries installed\n",
    "# It is defined by the kaggle/python Docker image: https://github.com/kaggle/docker-python\n",
    "# For example, here's several helpful packages to load\n",
    "\n",
    "import numpy as np # linear algebra\n",
    "import pandas as pd # data processing, CSV file I/O (e.g. pd.read_csv)\n",
    "\n",
    "# Input data files are available in the read-only \"../input/\" directory\n",
    "# For example, running this (by clicking run or pressing Shift+Enter) will list all files under the input directory\n",
    "\n",
    "import os\n",
    "for dirname, _, filenames in os.walk('/kaggle/input'):\n",
    "    for filename in filenames:\n",
    "        print(os.path.join(dirname, filename))\n",
    "\n",
    "# You can write up to 20GB to the current directory (/kaggle/working/) that gets preserved as output when you create a version using \"Save & Run All\" \n",
    "# You can also write temporary files to /kaggle/temp/, but they won't be saved outside of the current session"
   ]
  },
  {
   "cell_type": "code",
   "execution_count": 2,
   "id": "2a00dc8d",
   "metadata": {
    "execution": {
     "iopub.execute_input": "2025-05-06T16:23:55.766315Z",
     "iopub.status.busy": "2025-05-06T16:23:55.765734Z",
     "iopub.status.idle": "2025-05-06T16:23:55.829762Z",
     "shell.execute_reply": "2025-05-06T16:23:55.828503Z"
    },
    "papermill": {
     "duration": 0.072012,
     "end_time": "2025-05-06T16:23:55.831643",
     "exception": false,
     "start_time": "2025-05-06T16:23:55.759631",
     "status": "completed"
    },
    "tags": []
   },
   "outputs": [
    {
     "data": {
      "text/html": [
       "<div>\n",
       "<style scoped>\n",
       "    .dataframe tbody tr th:only-of-type {\n",
       "        vertical-align: middle;\n",
       "    }\n",
       "\n",
       "    .dataframe tbody tr th {\n",
       "        vertical-align: top;\n",
       "    }\n",
       "\n",
       "    .dataframe thead th {\n",
       "        text-align: right;\n",
       "    }\n",
       "</style>\n",
       "<table border=\"1\" class=\"dataframe\">\n",
       "  <thead>\n",
       "    <tr style=\"text-align: right;\">\n",
       "      <th></th>\n",
       "      <th>matched_score</th>\n",
       "      <th>education_similarity</th>\n",
       "      <th>experience_years</th>\n",
       "      <th>cosine_similarity_skills</th>\n",
       "      <th>highest_degree</th>\n",
       "      <th>ed_req_encoded</th>\n",
       "      <th>exp_req_encoded</th>\n",
       "    </tr>\n",
       "  </thead>\n",
       "  <tbody>\n",
       "    <tr>\n",
       "      <th>0</th>\n",
       "      <td>0.850000</td>\n",
       "      <td>0.318784</td>\n",
       "      <td>5.50</td>\n",
       "      <td>0.0</td>\n",
       "      <td>4</td>\n",
       "      <td>4</td>\n",
       "      <td>1</td>\n",
       "    </tr>\n",
       "    <tr>\n",
       "      <th>1</th>\n",
       "      <td>0.750000</td>\n",
       "      <td>0.375598</td>\n",
       "      <td>5.66</td>\n",
       "      <td>0.0</td>\n",
       "      <td>5</td>\n",
       "      <td>5</td>\n",
       "      <td>5</td>\n",
       "    </tr>\n",
       "    <tr>\n",
       "      <th>2</th>\n",
       "      <td>0.416667</td>\n",
       "      <td>0.093495</td>\n",
       "      <td>6.92</td>\n",
       "      <td>0.0</td>\n",
       "      <td>4</td>\n",
       "      <td>5</td>\n",
       "      <td>3</td>\n",
       "    </tr>\n",
       "    <tr>\n",
       "      <th>3</th>\n",
       "      <td>0.760000</td>\n",
       "      <td>0.000000</td>\n",
       "      <td>13.83</td>\n",
       "      <td>0.0</td>\n",
       "      <td>5</td>\n",
       "      <td>4</td>\n",
       "      <td>1</td>\n",
       "    </tr>\n",
       "    <tr>\n",
       "      <th>4</th>\n",
       "      <td>0.650000</td>\n",
       "      <td>0.312103</td>\n",
       "      <td>17.33</td>\n",
       "      <td>0.0</td>\n",
       "      <td>4</td>\n",
       "      <td>4</td>\n",
       "      <td>4</td>\n",
       "    </tr>\n",
       "  </tbody>\n",
       "</table>\n",
       "</div>"
      ],
      "text/plain": [
       "   matched_score  education_similarity  experience_years  \\\n",
       "0       0.850000              0.318784              5.50   \n",
       "1       0.750000              0.375598              5.66   \n",
       "2       0.416667              0.093495              6.92   \n",
       "3       0.760000              0.000000             13.83   \n",
       "4       0.650000              0.312103             17.33   \n",
       "\n",
       "   cosine_similarity_skills  highest_degree  ed_req_encoded  exp_req_encoded  \n",
       "0                       0.0               4               4                1  \n",
       "1                       0.0               5               5                5  \n",
       "2                       0.0               4               5                3  \n",
       "3                       0.0               5               4                1  \n",
       "4                       0.0               4               4                4  "
      ]
     },
     "execution_count": 2,
     "metadata": {},
     "output_type": "execute_result"
    }
   ],
   "source": [
    "df = pd.read_csv('/kaggle/input/resume-cleaned-dataset/df_cleaned.csv')\n",
    "df.head()"
   ]
  },
  {
   "cell_type": "code",
   "execution_count": 4,
   "id": "5eb94dfb",
   "metadata": {
    "execution": {
     "iopub.execute_input": "2025-05-06T16:23:55.864005Z",
     "iopub.status.busy": "2025-05-06T16:23:55.863243Z",
     "iopub.status.idle": "2025-05-06T16:23:58.005709Z",
     "shell.execute_reply": "2025-05-06T16:23:58.004442Z"
    },
    "papermill": {
     "duration": 2.150454,
     "end_time": "2025-05-06T16:23:58.007974",
     "exception": false,
     "start_time": "2025-05-06T16:23:55.857520",
     "status": "completed"
    },
    "tags": []
   },
   "outputs": [],
   "source": [
    "from sklearn.model_selection import train_test_split\n",
    "\n",
    "X = df.drop('matched_score', axis=1)\n",
    "y = df['matched_score']\n",
    "\n",
    "X_train, X_test, y_train, y_test = train_test_split(X, y, test_size=0.2, random_state=42)\n"
   ]
  },
  {
   "cell_type": "code",
   "execution_count": 5,
   "id": "b7ed47f1",
   "metadata": {
    "execution": {
     "iopub.execute_input": "2025-05-06T16:23:58.019474Z",
     "iopub.status.busy": "2025-05-06T16:23:58.018972Z",
     "iopub.status.idle": "2025-05-06T16:23:58.461097Z",
     "shell.execute_reply": "2025-05-06T16:23:58.459801Z"
    },
    "papermill": {
     "duration": 0.450419,
     "end_time": "2025-05-06T16:23:58.463223",
     "exception": false,
     "start_time": "2025-05-06T16:23:58.012804",
     "status": "completed"
    },
    "tags": []
   },
   "outputs": [
    {
     "data": {
      "text/html": [
       "<style>#sk-container-id-1 {color: black;background-color: white;}#sk-container-id-1 pre{padding: 0;}#sk-container-id-1 div.sk-toggleable {background-color: white;}#sk-container-id-1 label.sk-toggleable__label {cursor: pointer;display: block;width: 100%;margin-bottom: 0;padding: 0.3em;box-sizing: border-box;text-align: center;}#sk-container-id-1 label.sk-toggleable__label-arrow:before {content: \"▸\";float: left;margin-right: 0.25em;color: #696969;}#sk-container-id-1 label.sk-toggleable__label-arrow:hover:before {color: black;}#sk-container-id-1 div.sk-estimator:hover label.sk-toggleable__label-arrow:before {color: black;}#sk-container-id-1 div.sk-toggleable__content {max-height: 0;max-width: 0;overflow: hidden;text-align: left;background-color: #f0f8ff;}#sk-container-id-1 div.sk-toggleable__content pre {margin: 0.2em;color: black;border-radius: 0.25em;background-color: #f0f8ff;}#sk-container-id-1 input.sk-toggleable__control:checked~div.sk-toggleable__content {max-height: 200px;max-width: 100%;overflow: auto;}#sk-container-id-1 input.sk-toggleable__control:checked~label.sk-toggleable__label-arrow:before {content: \"▾\";}#sk-container-id-1 div.sk-estimator input.sk-toggleable__control:checked~label.sk-toggleable__label {background-color: #d4ebff;}#sk-container-id-1 div.sk-label input.sk-toggleable__control:checked~label.sk-toggleable__label {background-color: #d4ebff;}#sk-container-id-1 input.sk-hidden--visually {border: 0;clip: rect(1px 1px 1px 1px);clip: rect(1px, 1px, 1px, 1px);height: 1px;margin: -1px;overflow: hidden;padding: 0;position: absolute;width: 1px;}#sk-container-id-1 div.sk-estimator {font-family: monospace;background-color: #f0f8ff;border: 1px dotted black;border-radius: 0.25em;box-sizing: border-box;margin-bottom: 0.5em;}#sk-container-id-1 div.sk-estimator:hover {background-color: #d4ebff;}#sk-container-id-1 div.sk-parallel-item::after {content: \"\";width: 100%;border-bottom: 1px solid gray;flex-grow: 1;}#sk-container-id-1 div.sk-label:hover label.sk-toggleable__label {background-color: #d4ebff;}#sk-container-id-1 div.sk-serial::before {content: \"\";position: absolute;border-left: 1px solid gray;box-sizing: border-box;top: 0;bottom: 0;left: 50%;z-index: 0;}#sk-container-id-1 div.sk-serial {display: flex;flex-direction: column;align-items: center;background-color: white;padding-right: 0.2em;padding-left: 0.2em;position: relative;}#sk-container-id-1 div.sk-item {position: relative;z-index: 1;}#sk-container-id-1 div.sk-parallel {display: flex;align-items: stretch;justify-content: center;background-color: white;position: relative;}#sk-container-id-1 div.sk-item::before, #sk-container-id-1 div.sk-parallel-item::before {content: \"\";position: absolute;border-left: 1px solid gray;box-sizing: border-box;top: 0;bottom: 0;left: 50%;z-index: -1;}#sk-container-id-1 div.sk-parallel-item {display: flex;flex-direction: column;z-index: 1;position: relative;background-color: white;}#sk-container-id-1 div.sk-parallel-item:first-child::after {align-self: flex-end;width: 50%;}#sk-container-id-1 div.sk-parallel-item:last-child::after {align-self: flex-start;width: 50%;}#sk-container-id-1 div.sk-parallel-item:only-child::after {width: 0;}#sk-container-id-1 div.sk-dashed-wrapped {border: 1px dashed gray;margin: 0 0.4em 0.5em 0.4em;box-sizing: border-box;padding-bottom: 0.4em;background-color: white;}#sk-container-id-1 div.sk-label label {font-family: monospace;font-weight: bold;display: inline-block;line-height: 1.2em;}#sk-container-id-1 div.sk-label-container {text-align: center;}#sk-container-id-1 div.sk-container {/* jupyter's `normalize.less` sets `[hidden] { display: none; }` but bootstrap.min.css set `[hidden] { display: none !important; }` so we also need the `!important` here to be able to override the default hidden behavior on the sphinx rendered scikit-learn.org. See: https://github.com/scikit-learn/scikit-learn/issues/21755 */display: inline-block !important;position: relative;}#sk-container-id-1 div.sk-text-repr-fallback {display: none;}</style><div id=\"sk-container-id-1\" class=\"sk-top-container\"><div class=\"sk-text-repr-fallback\"><pre>DecisionTreeRegressor(max_depth=5, random_state=42)</pre><b>In a Jupyter environment, please rerun this cell to show the HTML representation or trust the notebook. <br />On GitHub, the HTML representation is unable to render, please try loading this page with nbviewer.org.</b></div><div class=\"sk-container\" hidden><div class=\"sk-item\"><div class=\"sk-estimator sk-toggleable\"><input class=\"sk-toggleable__control sk-hidden--visually\" id=\"sk-estimator-id-1\" type=\"checkbox\" checked><label for=\"sk-estimator-id-1\" class=\"sk-toggleable__label sk-toggleable__label-arrow\">DecisionTreeRegressor</label><div class=\"sk-toggleable__content\"><pre>DecisionTreeRegressor(max_depth=5, random_state=42)</pre></div></div></div></div></div>"
      ],
      "text/plain": [
       "DecisionTreeRegressor(max_depth=5, random_state=42)"
      ]
     },
     "execution_count": 5,
     "metadata": {},
     "output_type": "execute_result"
    }
   ],
   "source": [
    "from sklearn.tree import DecisionTreeRegressor\n",
    "\n",
    "model = DecisionTreeRegressor(max_depth=5, random_state=42)  \n",
    "model.fit(X_train, y_train)\n"
   ]
  },
  {
   "cell_type": "code",
   "execution_count": 6,
   "id": "f092b805",
   "metadata": {
    "execution": {
     "iopub.execute_input": "2025-05-06T16:23:58.476728Z",
     "iopub.status.busy": "2025-05-06T16:23:58.476286Z",
     "iopub.status.idle": "2025-05-06T16:23:58.494128Z",
     "shell.execute_reply": "2025-05-06T16:23:58.492793Z"
    },
    "papermill": {
     "duration": 0.026321,
     "end_time": "2025-05-06T16:23:58.495888",
     "exception": false,
     "start_time": "2025-05-06T16:23:58.469567",
     "status": "completed"
    },
    "tags": []
   },
   "outputs": [
    {
     "name": "stdout",
     "output_type": "stream",
     "text": [
      "Mean Squared Error: 0.02383618557900226\n",
      "Mean Absolute Error: 0.12186299721435206\n",
      "R² Score: 0.14517424381872346\n"
     ]
    }
   ],
   "source": [
    "from sklearn.metrics import mean_squared_error, mean_absolute_error, r2_score\n",
    "\n",
    "y_pred = model.predict(X_test)\n",
    "\n",
    "mse = mean_squared_error(y_test, y_pred)\n",
    "mae = mean_absolute_error(y_test, y_pred)\n",
    "r2 = r2_score(y_test, y_pred)\n",
    "\n",
    "print(\"Mean Squared Error:\", mse)\n",
    "print(\"Mean Absolute Error:\", mae)\n",
    "print(\"R² Score:\", r2)\n"
   ]
  },
  {
   "cell_type": "code",
   "execution_count": 7,
   "id": "b3ce5261",
   "metadata": {
    "execution": {
     "iopub.execute_input": "2025-05-06T16:23:58.507360Z",
     "iopub.status.busy": "2025-05-06T16:23:58.507019Z",
     "iopub.status.idle": "2025-05-06T16:24:12.574201Z",
     "shell.execute_reply": "2025-05-06T16:24:12.573008Z"
    },
    "papermill": {
     "duration": 14.075286,
     "end_time": "2025-05-06T16:24:12.576286",
     "exception": false,
     "start_time": "2025-05-06T16:23:58.501000",
     "status": "completed"
    },
    "tags": []
   },
   "outputs": [
    {
     "name": "stdout",
     "output_type": "stream",
     "text": [
      "Best parameters: {'max_depth': 10, 'min_samples_leaf': 10, 'min_samples_split': 2}\n",
      "Best R² Score: 0.19659805315685838\n"
     ]
    }
   ],
   "source": [
    "from sklearn.model_selection import GridSearchCV\n",
    "\n",
    "param_grid = {\n",
    "    'max_depth': [3, 5, 10,15,20, None],\n",
    "    'min_samples_split': [2, 5, 10,15,20],\n",
    "    'min_samples_leaf': [1, 2, 4,6,8,10]\n",
    "}\n",
    "\n",
    "grid = GridSearchCV(DecisionTreeRegressor(random_state=42), param_grid, cv=5, scoring='r2')\n",
    "grid.fit(X_train, y_train)\n",
    "\n",
    "print(\"Best parameters:\", grid.best_params_)\n",
    "print(\"Best R² Score:\", grid.best_score_)\n"
   ]
  },
  {
   "cell_type": "code",
   "execution_count": 11,
   "id": "a14640e4",
   "metadata": {
    "execution": {
     "iopub.execute_input": "2025-05-06T16:41:26.481726Z",
     "iopub.status.busy": "2025-05-06T16:41:26.481381Z",
     "iopub.status.idle": "2025-05-06T16:41:26.505897Z",
     "shell.execute_reply": "2025-05-06T16:41:26.504482Z"
    },
    "papermill": {
     "duration": 0.032439,
     "end_time": "2025-05-06T16:41:26.507752",
     "exception": false,
     "start_time": "2025-05-06T16:41:26.475313",
     "status": "completed"
    },
    "tags": []
   },
   "outputs": [
    {
     "data": {
      "text/html": [
       "<style>#sk-container-id-2 {color: black;background-color: white;}#sk-container-id-2 pre{padding: 0;}#sk-container-id-2 div.sk-toggleable {background-color: white;}#sk-container-id-2 label.sk-toggleable__label {cursor: pointer;display: block;width: 100%;margin-bottom: 0;padding: 0.3em;box-sizing: border-box;text-align: center;}#sk-container-id-2 label.sk-toggleable__label-arrow:before {content: \"▸\";float: left;margin-right: 0.25em;color: #696969;}#sk-container-id-2 label.sk-toggleable__label-arrow:hover:before {color: black;}#sk-container-id-2 div.sk-estimator:hover label.sk-toggleable__label-arrow:before {color: black;}#sk-container-id-2 div.sk-toggleable__content {max-height: 0;max-width: 0;overflow: hidden;text-align: left;background-color: #f0f8ff;}#sk-container-id-2 div.sk-toggleable__content pre {margin: 0.2em;color: black;border-radius: 0.25em;background-color: #f0f8ff;}#sk-container-id-2 input.sk-toggleable__control:checked~div.sk-toggleable__content {max-height: 200px;max-width: 100%;overflow: auto;}#sk-container-id-2 input.sk-toggleable__control:checked~label.sk-toggleable__label-arrow:before {content: \"▾\";}#sk-container-id-2 div.sk-estimator input.sk-toggleable__control:checked~label.sk-toggleable__label {background-color: #d4ebff;}#sk-container-id-2 div.sk-label input.sk-toggleable__control:checked~label.sk-toggleable__label {background-color: #d4ebff;}#sk-container-id-2 input.sk-hidden--visually {border: 0;clip: rect(1px 1px 1px 1px);clip: rect(1px, 1px, 1px, 1px);height: 1px;margin: -1px;overflow: hidden;padding: 0;position: absolute;width: 1px;}#sk-container-id-2 div.sk-estimator {font-family: monospace;background-color: #f0f8ff;border: 1px dotted black;border-radius: 0.25em;box-sizing: border-box;margin-bottom: 0.5em;}#sk-container-id-2 div.sk-estimator:hover {background-color: #d4ebff;}#sk-container-id-2 div.sk-parallel-item::after {content: \"\";width: 100%;border-bottom: 1px solid gray;flex-grow: 1;}#sk-container-id-2 div.sk-label:hover label.sk-toggleable__label {background-color: #d4ebff;}#sk-container-id-2 div.sk-serial::before {content: \"\";position: absolute;border-left: 1px solid gray;box-sizing: border-box;top: 0;bottom: 0;left: 50%;z-index: 0;}#sk-container-id-2 div.sk-serial {display: flex;flex-direction: column;align-items: center;background-color: white;padding-right: 0.2em;padding-left: 0.2em;position: relative;}#sk-container-id-2 div.sk-item {position: relative;z-index: 1;}#sk-container-id-2 div.sk-parallel {display: flex;align-items: stretch;justify-content: center;background-color: white;position: relative;}#sk-container-id-2 div.sk-item::before, #sk-container-id-2 div.sk-parallel-item::before {content: \"\";position: absolute;border-left: 1px solid gray;box-sizing: border-box;top: 0;bottom: 0;left: 50%;z-index: -1;}#sk-container-id-2 div.sk-parallel-item {display: flex;flex-direction: column;z-index: 1;position: relative;background-color: white;}#sk-container-id-2 div.sk-parallel-item:first-child::after {align-self: flex-end;width: 50%;}#sk-container-id-2 div.sk-parallel-item:last-child::after {align-self: flex-start;width: 50%;}#sk-container-id-2 div.sk-parallel-item:only-child::after {width: 0;}#sk-container-id-2 div.sk-dashed-wrapped {border: 1px dashed gray;margin: 0 0.4em 0.5em 0.4em;box-sizing: border-box;padding-bottom: 0.4em;background-color: white;}#sk-container-id-2 div.sk-label label {font-family: monospace;font-weight: bold;display: inline-block;line-height: 1.2em;}#sk-container-id-2 div.sk-label-container {text-align: center;}#sk-container-id-2 div.sk-container {/* jupyter's `normalize.less` sets `[hidden] { display: none; }` but bootstrap.min.css set `[hidden] { display: none !important; }` so we also need the `!important` here to be able to override the default hidden behavior on the sphinx rendered scikit-learn.org. See: https://github.com/scikit-learn/scikit-learn/issues/21755 */display: inline-block !important;position: relative;}#sk-container-id-2 div.sk-text-repr-fallback {display: none;}</style><div id=\"sk-container-id-2\" class=\"sk-top-container\"><div class=\"sk-text-repr-fallback\"><pre>DecisionTreeRegressor(max_depth=10, min_samples_leaf=10, random_state=42)</pre><b>In a Jupyter environment, please rerun this cell to show the HTML representation or trust the notebook. <br />On GitHub, the HTML representation is unable to render, please try loading this page with nbviewer.org.</b></div><div class=\"sk-container\" hidden><div class=\"sk-item\"><div class=\"sk-estimator sk-toggleable\"><input class=\"sk-toggleable__control sk-hidden--visually\" id=\"sk-estimator-id-2\" type=\"checkbox\" checked><label for=\"sk-estimator-id-2\" class=\"sk-toggleable__label sk-toggleable__label-arrow\">DecisionTreeRegressor</label><div class=\"sk-toggleable__content\"><pre>DecisionTreeRegressor(max_depth=10, min_samples_leaf=10, random_state=42)</pre></div></div></div></div></div>"
      ],
      "text/plain": [
       "DecisionTreeRegressor(max_depth=10, min_samples_leaf=10, random_state=42)"
      ]
     },
     "execution_count": 11,
     "metadata": {},
     "output_type": "execute_result"
    }
   ],
   "source": [
    "from sklearn.tree import DecisionTreeRegressor\n",
    "\n",
    "model = DecisionTreeRegressor(max_depth=10,min_samples_leaf=10,min_samples_split=2, random_state=42)  \n",
    "model.fit(X_train, y_train)\n"
   ]
  },
  {
   "cell_type": "code",
   "execution_count": 12,
   "id": "9e799e11",
   "metadata": {
    "execution": {
     "iopub.execute_input": "2025-05-06T16:41:26.519665Z",
     "iopub.status.busy": "2025-05-06T16:41:26.519360Z",
     "iopub.status.idle": "2025-05-06T16:41:26.531235Z",
     "shell.execute_reply": "2025-05-06T16:41:26.530225Z"
    },
    "papermill": {
     "duration": 0.02004,
     "end_time": "2025-05-06T16:41:26.533171",
     "exception": false,
     "start_time": "2025-05-06T16:41:26.513131",
     "status": "completed"
    },
    "tags": []
   },
   "outputs": [
    {
     "name": "stdout",
     "output_type": "stream",
     "text": [
      "Mean Squared Error: 0.022996389251256952\n",
      "Mean Absolute Error: 0.11688559515034734\n",
      "R² Score: 0.17529145903018473\n"
     ]
    }
   ],
   "source": [
    "from sklearn.metrics import mean_squared_error, mean_absolute_error, r2_score\n",
    "\n",
    "y_pred = model.predict(X_test)\n",
    "\n",
    "mse = mean_squared_error(y_test, y_pred)\n",
    "mae = mean_absolute_error(y_test, y_pred)\n",
    "r2 = r2_score(y_test, y_pred)\n",
    "\n",
    "print(\"Mean Squared Error:\", mse)\n",
    "print(\"Mean Absolute Error:\", mae)\n",
    "print(\"R² Score:\", r2)\n"
   ]
  },
  {
   "cell_type": "markdown",
   "id": "f60697cd",
   "metadata": {
    "papermill": {
     "duration": 0.005121,
     "end_time": "2025-05-06T16:41:26.607771",
     "exception": false,
     "start_time": "2025-05-06T16:41:26.602650",
     "status": "completed"
    },
    "tags": []
   },
   "source": [
    "# Final Model"
   ]
  },
  {
   "cell_type": "code",
   "execution_count": 15,
   "id": "ddc93ed0",
   "metadata": {
    "execution": {
     "iopub.execute_input": "2025-05-06T16:41:26.620922Z",
     "iopub.status.busy": "2025-05-06T16:41:26.620534Z",
     "iopub.status.idle": "2025-05-06T16:41:26.647903Z",
     "shell.execute_reply": "2025-05-06T16:41:26.646765Z"
    },
    "papermill": {
     "duration": 0.036134,
     "end_time": "2025-05-06T16:41:26.649774",
     "exception": false,
     "start_time": "2025-05-06T16:41:26.613640",
     "status": "completed"
    },
    "tags": []
   },
   "outputs": [
    {
     "data": {
      "text/html": [
       "<style>#sk-container-id-4 {color: black;background-color: white;}#sk-container-id-4 pre{padding: 0;}#sk-container-id-4 div.sk-toggleable {background-color: white;}#sk-container-id-4 label.sk-toggleable__label {cursor: pointer;display: block;width: 100%;margin-bottom: 0;padding: 0.3em;box-sizing: border-box;text-align: center;}#sk-container-id-4 label.sk-toggleable__label-arrow:before {content: \"▸\";float: left;margin-right: 0.25em;color: #696969;}#sk-container-id-4 label.sk-toggleable__label-arrow:hover:before {color: black;}#sk-container-id-4 div.sk-estimator:hover label.sk-toggleable__label-arrow:before {color: black;}#sk-container-id-4 div.sk-toggleable__content {max-height: 0;max-width: 0;overflow: hidden;text-align: left;background-color: #f0f8ff;}#sk-container-id-4 div.sk-toggleable__content pre {margin: 0.2em;color: black;border-radius: 0.25em;background-color: #f0f8ff;}#sk-container-id-4 input.sk-toggleable__control:checked~div.sk-toggleable__content {max-height: 200px;max-width: 100%;overflow: auto;}#sk-container-id-4 input.sk-toggleable__control:checked~label.sk-toggleable__label-arrow:before {content: \"▾\";}#sk-container-id-4 div.sk-estimator input.sk-toggleable__control:checked~label.sk-toggleable__label {background-color: #d4ebff;}#sk-container-id-4 div.sk-label input.sk-toggleable__control:checked~label.sk-toggleable__label {background-color: #d4ebff;}#sk-container-id-4 input.sk-hidden--visually {border: 0;clip: rect(1px 1px 1px 1px);clip: rect(1px, 1px, 1px, 1px);height: 1px;margin: -1px;overflow: hidden;padding: 0;position: absolute;width: 1px;}#sk-container-id-4 div.sk-estimator {font-family: monospace;background-color: #f0f8ff;border: 1px dotted black;border-radius: 0.25em;box-sizing: border-box;margin-bottom: 0.5em;}#sk-container-id-4 div.sk-estimator:hover {background-color: #d4ebff;}#sk-container-id-4 div.sk-parallel-item::after {content: \"\";width: 100%;border-bottom: 1px solid gray;flex-grow: 1;}#sk-container-id-4 div.sk-label:hover label.sk-toggleable__label {background-color: #d4ebff;}#sk-container-id-4 div.sk-serial::before {content: \"\";position: absolute;border-left: 1px solid gray;box-sizing: border-box;top: 0;bottom: 0;left: 50%;z-index: 0;}#sk-container-id-4 div.sk-serial {display: flex;flex-direction: column;align-items: center;background-color: white;padding-right: 0.2em;padding-left: 0.2em;position: relative;}#sk-container-id-4 div.sk-item {position: relative;z-index: 1;}#sk-container-id-4 div.sk-parallel {display: flex;align-items: stretch;justify-content: center;background-color: white;position: relative;}#sk-container-id-4 div.sk-item::before, #sk-container-id-4 div.sk-parallel-item::before {content: \"\";position: absolute;border-left: 1px solid gray;box-sizing: border-box;top: 0;bottom: 0;left: 50%;z-index: -1;}#sk-container-id-4 div.sk-parallel-item {display: flex;flex-direction: column;z-index: 1;position: relative;background-color: white;}#sk-container-id-4 div.sk-parallel-item:first-child::after {align-self: flex-end;width: 50%;}#sk-container-id-4 div.sk-parallel-item:last-child::after {align-self: flex-start;width: 50%;}#sk-container-id-4 div.sk-parallel-item:only-child::after {width: 0;}#sk-container-id-4 div.sk-dashed-wrapped {border: 1px dashed gray;margin: 0 0.4em 0.5em 0.4em;box-sizing: border-box;padding-bottom: 0.4em;background-color: white;}#sk-container-id-4 div.sk-label label {font-family: monospace;font-weight: bold;display: inline-block;line-height: 1.2em;}#sk-container-id-4 div.sk-label-container {text-align: center;}#sk-container-id-4 div.sk-container {/* jupyter's `normalize.less` sets `[hidden] { display: none; }` but bootstrap.min.css set `[hidden] { display: none !important; }` so we also need the `!important` here to be able to override the default hidden behavior on the sphinx rendered scikit-learn.org. See: https://github.com/scikit-learn/scikit-learn/issues/21755 */display: inline-block !important;position: relative;}#sk-container-id-4 div.sk-text-repr-fallback {display: none;}</style><div id=\"sk-container-id-4\" class=\"sk-top-container\"><div class=\"sk-text-repr-fallback\"><pre>DecisionTreeRegressor(max_depth=10, min_samples_leaf=10, random_state=42)</pre><b>In a Jupyter environment, please rerun this cell to show the HTML representation or trust the notebook. <br />On GitHub, the HTML representation is unable to render, please try loading this page with nbviewer.org.</b></div><div class=\"sk-container\" hidden><div class=\"sk-item\"><div class=\"sk-estimator sk-toggleable\"><input class=\"sk-toggleable__control sk-hidden--visually\" id=\"sk-estimator-id-4\" type=\"checkbox\" checked><label for=\"sk-estimator-id-4\" class=\"sk-toggleable__label sk-toggleable__label-arrow\">DecisionTreeRegressor</label><div class=\"sk-toggleable__content\"><pre>DecisionTreeRegressor(max_depth=10, min_samples_leaf=10, random_state=42)</pre></div></div></div></div></div>"
      ],
      "text/plain": [
       "DecisionTreeRegressor(max_depth=10, min_samples_leaf=10, random_state=42)"
      ]
     },
     "execution_count": 15,
     "metadata": {},
     "output_type": "execute_result"
    }
   ],
   "source": [
    "final_model = DecisionTreeRegressor(max_depth=10,min_samples_leaf=10,min_samples_split=2, random_state=42)\n",
    "final_model.fit(X_train, y_train)"
   ]
  },
  {
   "cell_type": "markdown",
   "id": "18f7a989",
   "metadata": {
    "papermill": {
     "duration": 0.005548,
     "end_time": "2025-05-06T16:41:26.661802",
     "exception": false,
     "start_time": "2025-05-06T16:41:26.656254",
     "status": "completed"
    },
    "tags": []
   },
   "source": [
    "# AI fairness360\n"
   ]
  },
  {
   "cell_type": "code",
   "execution_count": 16,
   "id": "8d0d6db6",
   "metadata": {
    "execution": {
     "iopub.execute_input": "2025-05-06T16:41:26.674962Z",
     "iopub.status.busy": "2025-05-06T16:41:26.674598Z",
     "iopub.status.idle": "2025-05-06T16:41:37.499912Z",
     "shell.execute_reply": "2025-05-06T16:41:37.498747Z"
    },
    "papermill": {
     "duration": 10.834313,
     "end_time": "2025-05-06T16:41:37.501883",
     "exception": false,
     "start_time": "2025-05-06T16:41:26.667570",
     "status": "completed"
    },
    "tags": []
   },
   "outputs": [
    {
     "name": "stdout",
     "output_type": "stream",
     "text": [
      "Collecting aif360\r\n",
      "  Downloading aif360-0.6.1-py3-none-any.whl.metadata (5.0 kB)\r\n",
      "Requirement already satisfied: numpy>=1.16 in /usr/local/lib/python3.11/dist-packages (from aif360) (1.26.4)\r\n",
      "Requirement already satisfied: scipy>=1.2.0 in /usr/local/lib/python3.11/dist-packages (from aif360) (1.15.2)\r\n",
      "Requirement already satisfied: pandas>=0.24.0 in /usr/local/lib/python3.11/dist-packages (from aif360) (2.2.3)\r\n",
      "Requirement already satisfied: scikit-learn>=1.0 in /usr/local/lib/python3.11/dist-packages (from aif360) (1.2.2)\r\n",
      "Requirement already satisfied: matplotlib in /usr/local/lib/python3.11/dist-packages (from aif360) (3.7.5)\r\n",
      "Requirement already satisfied: mkl_fft in /usr/local/lib/python3.11/dist-packages (from numpy>=1.16->aif360) (1.3.8)\r\n",
      "Requirement already satisfied: mkl_random in /usr/local/lib/python3.11/dist-packages (from numpy>=1.16->aif360) (1.2.4)\r\n",
      "Requirement already satisfied: mkl_umath in /usr/local/lib/python3.11/dist-packages (from numpy>=1.16->aif360) (0.1.1)\r\n",
      "Requirement already satisfied: mkl in /usr/local/lib/python3.11/dist-packages (from numpy>=1.16->aif360) (2025.1.0)\r\n",
      "Requirement already satisfied: tbb4py in /usr/local/lib/python3.11/dist-packages (from numpy>=1.16->aif360) (2022.1.0)\r\n",
      "Requirement already satisfied: mkl-service in /usr/local/lib/python3.11/dist-packages (from numpy>=1.16->aif360) (2.4.1)\r\n",
      "Requirement already satisfied: python-dateutil>=2.8.2 in /usr/local/lib/python3.11/dist-packages (from pandas>=0.24.0->aif360) (2.9.0.post0)\r\n",
      "Requirement already satisfied: pytz>=2020.1 in /usr/local/lib/python3.11/dist-packages (from pandas>=0.24.0->aif360) (2025.2)\r\n",
      "Requirement already satisfied: tzdata>=2022.7 in /usr/local/lib/python3.11/dist-packages (from pandas>=0.24.0->aif360) (2025.2)\r\n",
      "Requirement already satisfied: joblib>=1.1.1 in /usr/local/lib/python3.11/dist-packages (from scikit-learn>=1.0->aif360) (1.4.2)\r\n",
      "Requirement already satisfied: threadpoolctl>=2.0.0 in /usr/local/lib/python3.11/dist-packages (from scikit-learn>=1.0->aif360) (3.6.0)\r\n",
      "Requirement already satisfied: contourpy>=1.0.1 in /usr/local/lib/python3.11/dist-packages (from matplotlib->aif360) (1.3.1)\r\n",
      "Requirement already satisfied: cycler>=0.10 in /usr/local/lib/python3.11/dist-packages (from matplotlib->aif360) (0.12.1)\r\n",
      "Requirement already satisfied: fonttools>=4.22.0 in /usr/local/lib/python3.11/dist-packages (from matplotlib->aif360) (4.56.0)\r\n",
      "Requirement already satisfied: kiwisolver>=1.0.1 in /usr/local/lib/python3.11/dist-packages (from matplotlib->aif360) (1.4.8)\r\n",
      "Requirement already satisfied: packaging>=20.0 in /usr/local/lib/python3.11/dist-packages (from matplotlib->aif360) (24.2)\r\n",
      "Requirement already satisfied: pillow>=6.2.0 in /usr/local/lib/python3.11/dist-packages (from matplotlib->aif360) (11.1.0)\r\n",
      "Requirement already satisfied: pyparsing>=2.3.1 in /usr/local/lib/python3.11/dist-packages (from matplotlib->aif360) (3.2.1)\r\n",
      "Requirement already satisfied: six>=1.5 in /usr/local/lib/python3.11/dist-packages (from python-dateutil>=2.8.2->pandas>=0.24.0->aif360) (1.17.0)\r\n",
      "Requirement already satisfied: intel-openmp<2026,>=2024 in /usr/local/lib/python3.11/dist-packages (from mkl->numpy>=1.16->aif360) (2024.2.0)\r\n",
      "Requirement already satisfied: tbb==2022.* in /usr/local/lib/python3.11/dist-packages (from mkl->numpy>=1.16->aif360) (2022.1.0)\r\n",
      "Requirement already satisfied: tcmlib==1.* in /usr/local/lib/python3.11/dist-packages (from tbb==2022.*->mkl->numpy>=1.16->aif360) (1.2.0)\r\n",
      "Requirement already satisfied: intel-cmplr-lib-rt in /usr/local/lib/python3.11/dist-packages (from mkl_umath->numpy>=1.16->aif360) (2024.2.0)\r\n",
      "Requirement already satisfied: intel-cmplr-lib-ur==2024.2.0 in /usr/local/lib/python3.11/dist-packages (from intel-openmp<2026,>=2024->mkl->numpy>=1.16->aif360) (2024.2.0)\r\n",
      "Downloading aif360-0.6.1-py3-none-any.whl (259 kB)\r\n",
      "\u001b[2K   \u001b[90m━━━━━━━━━━━━━━━━━━━━━━━━━━━━━━━━━━━━━━━━\u001b[0m \u001b[32m259.7/259.7 kB\u001b[0m \u001b[31m6.9 MB/s\u001b[0m eta \u001b[36m0:00:00\u001b[0m\r\n",
      "\u001b[?25hInstalling collected packages: aif360\r\n",
      "Successfully installed aif360-0.6.1\r\n",
      "Collecting folktables\r\n",
      "  Downloading folktables-0.0.12-py3-none-any.whl.metadata (533 bytes)\r\n",
      "Requirement already satisfied: numpy in /usr/local/lib/python3.11/dist-packages (from folktables) (1.26.4)\r\n",
      "Requirement already satisfied: pandas in /usr/local/lib/python3.11/dist-packages (from folktables) (2.2.3)\r\n",
      "Requirement already satisfied: requests in /usr/local/lib/python3.11/dist-packages (from folktables) (2.32.3)\r\n",
      "Requirement already satisfied: scikit-learn in /usr/local/lib/python3.11/dist-packages (from folktables) (1.2.2)\r\n",
      "Requirement already satisfied: mkl_fft in /usr/local/lib/python3.11/dist-packages (from numpy->folktables) (1.3.8)\r\n",
      "Requirement already satisfied: mkl_random in /usr/local/lib/python3.11/dist-packages (from numpy->folktables) (1.2.4)\r\n",
      "Requirement already satisfied: mkl_umath in /usr/local/lib/python3.11/dist-packages (from numpy->folktables) (0.1.1)\r\n",
      "Requirement already satisfied: mkl in /usr/local/lib/python3.11/dist-packages (from numpy->folktables) (2025.1.0)\r\n",
      "Requirement already satisfied: tbb4py in /usr/local/lib/python3.11/dist-packages (from numpy->folktables) (2022.1.0)\r\n",
      "Requirement already satisfied: mkl-service in /usr/local/lib/python3.11/dist-packages (from numpy->folktables) (2.4.1)\r\n",
      "Requirement already satisfied: python-dateutil>=2.8.2 in /usr/local/lib/python3.11/dist-packages (from pandas->folktables) (2.9.0.post0)\r\n",
      "Requirement already satisfied: pytz>=2020.1 in /usr/local/lib/python3.11/dist-packages (from pandas->folktables) (2025.2)\r\n",
      "Requirement already satisfied: tzdata>=2022.7 in /usr/local/lib/python3.11/dist-packages (from pandas->folktables) (2025.2)\r\n",
      "Requirement already satisfied: charset-normalizer<4,>=2 in /usr/local/lib/python3.11/dist-packages (from requests->folktables) (3.4.1)\r\n",
      "Requirement already satisfied: idna<4,>=2.5 in /usr/local/lib/python3.11/dist-packages (from requests->folktables) (3.10)\r\n",
      "Requirement already satisfied: urllib3<3,>=1.21.1 in /usr/local/lib/python3.11/dist-packages (from requests->folktables) (2.3.0)\r\n",
      "Requirement already satisfied: certifi>=2017.4.17 in /usr/local/lib/python3.11/dist-packages (from requests->folktables) (2025.1.31)\r\n",
      "Requirement already satisfied: scipy>=1.3.2 in /usr/local/lib/python3.11/dist-packages (from scikit-learn->folktables) (1.15.2)\r\n",
      "Requirement already satisfied: joblib>=1.1.1 in /usr/local/lib/python3.11/dist-packages (from scikit-learn->folktables) (1.4.2)\r\n",
      "Requirement already satisfied: threadpoolctl>=2.0.0 in /usr/local/lib/python3.11/dist-packages (from scikit-learn->folktables) (3.6.0)\r\n",
      "Requirement already satisfied: six>=1.5 in /usr/local/lib/python3.11/dist-packages (from python-dateutil>=2.8.2->pandas->folktables) (1.17.0)\r\n",
      "Requirement already satisfied: intel-openmp<2026,>=2024 in /usr/local/lib/python3.11/dist-packages (from mkl->numpy->folktables) (2024.2.0)\r\n",
      "Requirement already satisfied: tbb==2022.* in /usr/local/lib/python3.11/dist-packages (from mkl->numpy->folktables) (2022.1.0)\r\n",
      "Requirement already satisfied: tcmlib==1.* in /usr/local/lib/python3.11/dist-packages (from tbb==2022.*->mkl->numpy->folktables) (1.2.0)\r\n",
      "Requirement already satisfied: intel-cmplr-lib-rt in /usr/local/lib/python3.11/dist-packages (from mkl_umath->numpy->folktables) (2024.2.0)\r\n",
      "Requirement already satisfied: intel-cmplr-lib-ur==2024.2.0 in /usr/local/lib/python3.11/dist-packages (from intel-openmp<2026,>=2024->mkl->numpy->folktables) (2024.2.0)\r\n",
      "Downloading folktables-0.0.12-py3-none-any.whl (17 kB)\r\n",
      "Installing collected packages: folktables\r\n",
      "Successfully installed folktables-0.0.12\r\n"
     ]
    }
   ],
   "source": [
    "!pip install aif360\n",
    "!pip install folktables\n"
   ]
  },
  {
   "cell_type": "code",
   "execution_count": 17,
   "id": "825bfb9d",
   "metadata": {
    "execution": {
     "iopub.execute_input": "2025-05-06T16:41:37.517243Z",
     "iopub.status.busy": "2025-05-06T16:41:37.516859Z",
     "iopub.status.idle": "2025-05-06T16:41:57.774056Z",
     "shell.execute_reply": "2025-05-06T16:41:57.772945Z"
    },
    "papermill": {
     "duration": 20.267156,
     "end_time": "2025-05-06T16:41:57.776023",
     "exception": false,
     "start_time": "2025-05-06T16:41:37.508867",
     "status": "completed"
    },
    "tags": []
   },
   "outputs": [
    {
     "name": "stderr",
     "output_type": "stream",
     "text": [
      "2025-05-06 16:41:39.960042: E external/local_xla/xla/stream_executor/cuda/cuda_fft.cc:477] Unable to register cuFFT factory: Attempting to register factory for plugin cuFFT when one has already been registered\n",
      "WARNING: All log messages before absl::InitializeLog() is called are written to STDERR\n",
      "E0000 00:00:1746549700.284180      13 cuda_dnn.cc:8310] Unable to register cuDNN factory: Attempting to register factory for plugin cuDNN when one has already been registered\n",
      "E0000 00:00:1746549700.379874      13 cuda_blas.cc:1418] Unable to register cuBLAS factory: Attempting to register factory for plugin cuBLAS when one has already been registered\n"
     ]
    }
   ],
   "source": [
    "from aif360.datasets import BinaryLabelDataset\n",
    "from aif360.metrics import BinaryLabelDatasetMetric\n",
    "import pandas as pd\n",
    "\n",
    "def check_fairness(df, protected_attr, group_pairs, label_column='matched_score', threshold=0.7):\n",
    "    \"\"\"\n",
    "    Check fairness metrics (SPD, Disparate Impact, Mean Diff) using AIF360 for multiple group pairs.\n",
    "\n",
    "    Parameters:\n",
    "    - df: pandas DataFrame (input data)\n",
    "    - protected_attr: str, the column to check for fairness\n",
    "    - group_pairs: list of (unprivileged_value, privileged_value)\n",
    "    - label_column: str, column with the outcome (default = 'matched_score')\n",
    "    - threshold: float, value to binarize label (1 if >= threshold, else 0)\n",
    "    \"\"\"\n",
    "\n",
    "    # Step 1: Copy & binarize label\n",
    "    df_fair = df.copy()\n",
    "    df_fair[label_column] = (df_fair[label_column] >= threshold).astype(float)\n",
    "\n",
    "    results = []\n",
    "\n",
    "    for unpriv, priv in group_pairs:\n",
    "        print(f\"\\n🔍 Checking Fairness on '{protected_attr}' | Unprivileged = {unpriv}, Privileged = {priv}\")\n",
    "\n",
    "        dataset = BinaryLabelDataset(\n",
    "            df=df_fair,\n",
    "            label_names=[label_column],\n",
    "            protected_attribute_names=[protected_attr],\n",
    "            favorable_label=1.0,\n",
    "            unfavorable_label=0.0\n",
    "        )\n",
    "\n",
    "        # Define groups\n",
    "        dataset.unprivileged_protected_attributes = [{protected_attr: unpriv}]\n",
    "        dataset.privileged_protected_attributes = [{protected_attr: priv}]\n",
    "\n",
    "        metric = BinaryLabelDatasetMetric(dataset,\n",
    "                                          unprivileged_groups=[{protected_attr: unpriv}],\n",
    "                                          privileged_groups=[{protected_attr: priv}])\n",
    "\n",
    "        spd = metric.statistical_parity_difference()\n",
    "        di = metric.disparate_impact()\n",
    "        md = metric.mean_difference()\n",
    "\n",
    "        print(f\"  📊 Statistical Parity Difference : {spd:.4f}\")\n",
    "        print(f\"  📉 Disparate Impact              : {di:.4f}\")\n",
    "        print(f\"  🔁 Mean Difference               : {md:.4f}\")\n",
    "\n",
    "        results.append({\n",
    "            'protected_attr': protected_attr,\n",
    "            'unprivileged': unpriv,\n",
    "            'privileged': priv,\n",
    "            'SPD': spd,\n",
    "            'Disparate_Impact': di,\n",
    "            'Mean_Difference': md\n",
    "        })\n",
    "\n",
    "    return pd.DataFrame(results)\n"
   ]
  },
  {
   "cell_type": "code",
   "execution_count": 18,
   "id": "4870ca29",
   "metadata": {
    "execution": {
     "iopub.execute_input": "2025-05-06T16:41:57.792385Z",
     "iopub.status.busy": "2025-05-06T16:41:57.791804Z",
     "iopub.status.idle": "2025-05-06T16:41:57.867959Z",
     "shell.execute_reply": "2025-05-06T16:41:57.866436Z"
    },
    "papermill": {
     "duration": 0.085949,
     "end_time": "2025-05-06T16:41:57.869725",
     "exception": false,
     "start_time": "2025-05-06T16:41:57.783776",
     "status": "completed"
    },
    "tags": []
   },
   "outputs": [
    {
     "name": "stdout",
     "output_type": "stream",
     "text": [
      "\n",
      "🔍 Checking Fairness on 'highest_degree' | Unprivileged = 3.0, Privileged = 4.0\n",
      "  📊 Statistical Parity Difference : 0.1225\n",
      "  📉 Disparate Impact              : 1.2745\n",
      "  🔁 Mean Difference               : 0.1225\n",
      "\n",
      "🔍 Checking Fairness on 'highest_degree' | Unprivileged = 3.0, Privileged = 5.0\n",
      "  📊 Statistical Parity Difference : 0.0917\n",
      "  📉 Disparate Impact              : 1.1923\n",
      "  🔁 Mean Difference               : 0.0917\n",
      "\n",
      "🔍 Checking Fairness on 'highest_degree' | Unprivileged = 3.0, Privileged = 6.0\n",
      "  📊 Statistical Parity Difference : 0.1473\n",
      "  📉 Disparate Impact              : 1.3495\n",
      "  🔁 Mean Difference               : 0.1473\n",
      "\n",
      "🔍 Checking Fairness on 'highest_degree' | Unprivileged = 4.0, Privileged = 5.0\n",
      "  📊 Statistical Parity Difference : -0.0308\n",
      "  📉 Disparate Impact              : 0.9355\n",
      "  🔁 Mean Difference               : -0.0308\n",
      "\n",
      "🔍 Checking Fairness on 'highest_degree' | Unprivileged = 4.0, Privileged = 6.0\n",
      "  📊 Statistical Parity Difference : 0.0248\n",
      "  📉 Disparate Impact              : 1.0589\n",
      "  🔁 Mean Difference               : 0.0248\n"
     ]
    }
   ],
   "source": [
    "degree_pairs = [(3.0, 4.0), (3.0, 5.0), (3.0, 6.0), (4.0, 5.0),(4.0, 6.0)]\n",
    "\n",
    "fairness_df = check_fairness(df, protected_attr='highest_degree', group_pairs=degree_pairs)\n"
   ]
  },
  {
   "cell_type": "code",
   "execution_count": 19,
   "id": "730abd29",
   "metadata": {
    "execution": {
     "iopub.execute_input": "2025-05-06T16:41:57.886144Z",
     "iopub.status.busy": "2025-05-06T16:41:57.885641Z",
     "iopub.status.idle": "2025-05-06T16:41:57.900766Z",
     "shell.execute_reply": "2025-05-06T16:41:57.898386Z"
    },
    "papermill": {
     "duration": 0.026058,
     "end_time": "2025-05-06T16:41:57.902896",
     "exception": false,
     "start_time": "2025-05-06T16:41:57.876838",
     "status": "completed"
    },
    "tags": []
   },
   "outputs": [
    {
     "name": "stdout",
     "output_type": "stream",
     "text": [
      "ed_req_encoded\n",
      "4    4889\n",
      "5    3671\n",
      "Name: count, dtype: int64\n"
     ]
    }
   ],
   "source": [
    "print(df['ed_req_encoded'].value_counts())"
   ]
  },
  {
   "cell_type": "code",
   "execution_count": 20,
   "id": "9ca6aca3",
   "metadata": {
    "execution": {
     "iopub.execute_input": "2025-05-06T16:41:57.919552Z",
     "iopub.status.busy": "2025-05-06T16:41:57.919213Z",
     "iopub.status.idle": "2025-05-06T16:41:57.927240Z",
     "shell.execute_reply": "2025-05-06T16:41:57.925762Z"
    },
    "papermill": {
     "duration": 0.018,
     "end_time": "2025-05-06T16:41:57.929213",
     "exception": false,
     "start_time": "2025-05-06T16:41:57.911213",
     "status": "completed"
    },
    "tags": []
   },
   "outputs": [
    {
     "name": "stdout",
     "output_type": "stream",
     "text": [
      "exp_req_encoded\n",
      "5     2140\n",
      "1     1836\n",
      "3     1527\n",
      "0     1223\n",
      "2      917\n",
      "4      611\n",
      "15     306\n",
      "Name: count, dtype: int64\n"
     ]
    }
   ],
   "source": [
    "print(df['exp_req_encoded'].value_counts())"
   ]
  },
  {
   "cell_type": "code",
   "execution_count": 21,
   "id": "9ae8926f",
   "metadata": {
    "execution": {
     "iopub.execute_input": "2025-05-06T16:41:57.946813Z",
     "iopub.status.busy": "2025-05-06T16:41:57.946290Z",
     "iopub.status.idle": "2025-05-06T16:41:57.955117Z",
     "shell.execute_reply": "2025-05-06T16:41:57.953632Z"
    },
    "papermill": {
     "duration": 0.019599,
     "end_time": "2025-05-06T16:41:57.957133",
     "exception": false,
     "start_time": "2025-05-06T16:41:57.937534",
     "status": "completed"
    },
    "tags": []
   },
   "outputs": [
    {
     "name": "stdout",
     "output_type": "stream",
     "text": [
      "highest_degree\n",
      " 4    4668\n",
      " 5    3434\n",
      " 3     262\n",
      " 6     140\n",
      "-1      56\n",
      "Name: count, dtype: int64\n"
     ]
    }
   ],
   "source": [
    "print(df['highest_degree'].value_counts())\n"
   ]
  }
 ],
 "metadata": {
  "kaggle": {
   "accelerator": "none",
   "dataSources": [
    {
     "datasetId": 7345089,
     "sourceId": 11701985,
     "sourceType": "datasetVersion"
    }
   ],
   "dockerImageVersionId": 31012,
   "isGpuEnabled": false,
   "isInternetEnabled": true,
   "language": "python",
   "sourceType": "notebook"
  },
  "kernelspec": {
   "display_name": "Python 3",
   "language": "python",
   "name": "python3"
  },
  "language_info": {
   "codemirror_mode": {
    "name": "ipython",
    "version": 3
   },
   "file_extension": ".py",
   "mimetype": "text/x-python",
   "name": "python",
   "nbconvert_exporter": "python",
   "pygments_lexer": "ipython3",
   "version": "3.11.11"
  },
  "papermill": {
   "default_parameters": {},
   "duration": 1092.850013,
   "end_time": "2025-05-06T16:42:01.299013",
   "environment_variables": {},
   "exception": null,
   "input_path": "__notebook__.ipynb",
   "output_path": "__notebook__.ipynb",
   "parameters": {},
   "start_time": "2025-05-06T16:23:48.449000",
   "version": "2.6.0"
  }
 },
 "nbformat": 4,
 "nbformat_minor": 5
}
